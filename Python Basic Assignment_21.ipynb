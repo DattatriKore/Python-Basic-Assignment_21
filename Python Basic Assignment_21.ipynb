{
 "cells": [
  {
   "cell_type": "code",
   "execution_count": 1,
   "id": "2bc2bd9a",
   "metadata": {},
   "outputs": [
    {
     "data": {
      "text/plain": [
       "'2023-03-01'"
      ]
     },
     "execution_count": 1,
     "metadata": {},
     "output_type": "execute_result"
    }
   ],
   "source": [
    "# Q.[1] : Add the current date to the text file today.txt as a string.\n",
    "\n",
    "from datetime import date\n",
    "now = date.today()\n",
    "cur_date = now.isoformat()\n",
    "cur_date"
   ]
  },
  {
   "cell_type": "code",
   "execution_count": 2,
   "id": "d10ca4a4",
   "metadata": {},
   "outputs": [],
   "source": [
    "with open('today.txt','w') as file:\n",
    "    file.write(cur_date)"
   ]
  },
  {
   "cell_type": "code",
   "execution_count": 3,
   "id": "80f5ab9c",
   "metadata": {},
   "outputs": [
    {
     "data": {
      "text/plain": [
       "'2023-03-01'"
      ]
     },
     "execution_count": 3,
     "metadata": {},
     "output_type": "execute_result"
    }
   ],
   "source": [
    "# Q.[2] : Read the text file today.txt into the string today_string\n",
    "\n",
    "with open('today.txt','r') as file:\n",
    "    today_string = file.read()\n",
    "today_string"
   ]
  },
  {
   "cell_type": "code",
   "execution_count": 4,
   "id": "a5f145b2",
   "metadata": {},
   "outputs": [
    {
     "data": {
      "text/plain": [
       "datetime.datetime(2023, 3, 1, 0, 0)"
      ]
     },
     "execution_count": 4,
     "metadata": {},
     "output_type": "execute_result"
    }
   ],
   "source": [
    "# Q.[3] : Parse the date from today_string.\n",
    "\n",
    "from datetime import datetime\n",
    "format = '%Y-%m-%d'\n",
    "datetime.strptime(today_string,format)"
   ]
  },
  {
   "cell_type": "code",
   "execution_count": 5,
   "id": "a7da9f35",
   "metadata": {},
   "outputs": [
    {
     "data": {
      "text/plain": [
       "[' Python Programming Assignment_1.ipynb',\n",
       " '-1.14-windows.xml',\n",
       " '.astropy',\n",
       " '.bash_history',\n",
       " '.cache',\n",
       " '.conda',\n",
       " '.condarc',\n",
       " '.continuum',\n",
       " '.cufflinks',\n",
       " '.git-for-windows-updater',\n",
       " '.ipynb_checkpoints',\n",
       " '.ipython',\n",
       " '.jupyter',\n",
       " '.matplotlib',\n",
       " '.vscode',\n",
       " '26th Feb Live Class Statistics part 4.ipynb',\n",
       " '9. EDA & Feature Engineering',\n",
       " 'anaconda3',\n",
       " 'AppData',\n",
       " 'Application Data',\n",
       " 'ASSIGNMENT PRACTICE .ipynb',\n",
       " 'books.csv',\n",
       " 'books.db',\n",
       " 'Contacts',\n",
       " 'Cookies',\n",
       " 'data',\n",
       " 'Data_Train.xlsx',\n",
       " 'ddkk.txt',\n",
       " 'DK.csv',\n",
       " 'dk.py',\n",
       " 'dk.txt',\n",
       " 'Documents',\n",
       " 'Downloads',\n",
       " 'EDA  AND F E.ipynb',\n",
       " 'Favorites',\n",
       " 'fsds',\n",
       " 'fsds.db',\n",
       " 'FSDS_bootcamp_assignment_003_Oct_08.ipynb',\n",
       " 'FSDS_bootcamp_assignment_004_Oct_09.ipynb',\n",
       " 'FSDS_bootcamp_assignment_005_Oct_16.ipynb',\n",
       " 'glass.data',\n",
       " 'google.txt',\n",
       " 'googledata',\n",
       " 'IMPORTANT NOTES.ipynb',\n",
       " 'ineuron.db',\n",
       " 'IntelGraphicsProfiles',\n",
       " 'job.db',\n",
       " 'join.db',\n",
       " 'json_res.csv',\n",
       " 'Lassoand Regression.ipynb',\n",
       " 'Links',\n",
       " 'LIVE  CLASS 9.ipynb',\n",
       " 'LIVE CLASS  SQL.ipynb',\n",
       " 'LIVE CLASS 10.ipynb',\n",
       " 'LIVE CLASS 11 FUNCTION.ipynb',\n",
       " 'LIVE CLASS 4.ipynb',\n",
       " 'LIVE CLASS 5.ipynb',\n",
       " 'LIVE CLASS 6.ipynb',\n",
       " 'LIVE CLASS 7.ipynb',\n",
       " 'LIVE CLASS 8.ipynb',\n",
       " 'LIVE CLASS FUNCTION.ipynb',\n",
       " 'lk',\n",
       " 'Local Settings',\n",
       " 'multi.py',\n",
       " 'Music',\n",
       " 'My Documents',\n",
       " 'NBA.csv',\n",
       " 'NetHood',\n",
       " 'NTUSER.DAT',\n",
       " 'ntuser.dat.LOG1',\n",
       " 'ntuser.dat.LOG2',\n",
       " 'NTUSER.DAT{a2332f18-cdbf-11ec-8680-002248483d79}.TM.blf',\n",
       " 'NTUSER.DAT{a2332f18-cdbf-11ec-8680-002248483d79}.TMContainer00000000000000000001.regtrans-ms',\n",
       " 'NTUSER.DAT{a2332f18-cdbf-11ec-8680-002248483d79}.TMContainer00000000000000000002.regtrans-ms',\n",
       " 'ntuser.ini',\n",
       " 'OneDrive',\n",
       " 'output.csv',\n",
       " 'pandas-main',\n",
       " 'person.db',\n",
       " 'Postman',\n",
       " 'practice_set.ipynb',\n",
       " 'PrintHood',\n",
       " 'PycharmProjects',\n",
       " 'Python Basic Assignment_1.ipynb',\n",
       " 'Python Basic Assignment_10.ipynb',\n",
       " 'Python Basic Assignment_11.ipynb',\n",
       " 'Python Basic Assignment_12.ipynb',\n",
       " 'Python Basic Assignment_13.ipynb',\n",
       " 'Python Basic Assignment_14.ipynb',\n",
       " 'Python Basic Assignment_15.ipynb',\n",
       " 'Python Basic Assignment_16.ipynb',\n",
       " 'Python Basic Assignment_17.ipynb',\n",
       " 'Python Basic Assignment_19.ipynb',\n",
       " 'Python Basic Assignment_2.ipynb',\n",
       " 'Python Basic Assignment_20.ipynb',\n",
       " 'Python Basic Assignment_21.ipynb',\n",
       " 'Python Basic Assignment_3.ipynb',\n",
       " 'Python Basic Assignment_4.ipynb',\n",
       " 'Python Basic Assignment_5.ipynb',\n",
       " 'Python Basic Assignment_6.ipynb',\n",
       " 'Python Basic Assignment_7.ipynb',\n",
       " 'Python Basic Assignment_8.ipynb',\n",
       " 'Python Basic Assignment_9.ipynb',\n",
       " 'Python Programming Assignment_10.ipynb',\n",
       " 'Python Programming Assignment_11.ipynb',\n",
       " 'Python Programming Assignment_12.ipynb',\n",
       " 'Python Programming Assignment_13.ipynb',\n",
       " 'Python Programming Assignment_14.ipynb',\n",
       " 'Python Programming Assignment_15.ipynb',\n",
       " 'Python Programming Assignment_16.ipynb',\n",
       " 'Python Programming Assignment_17.ipynb',\n",
       " 'Python Programming Assignment_18.ipynb',\n",
       " 'Python Programming Assignment_19.ipynb',\n",
       " 'Python Programming Assignment_2.ipynb',\n",
       " 'Python Programming Assignment_20.ipynb',\n",
       " 'Python Programming Assignment_21.ipynb',\n",
       " 'Python Programming Assignment_22.ipynb',\n",
       " 'Python Programming Assignment_3.ipynb',\n",
       " 'Python Programming Assignment_4.ipynb',\n",
       " 'Python Programming Assignment_5.ipynb',\n",
       " 'Python Programming Assignment_6.ipynb',\n",
       " 'Python Programming Assignment_7.ipynb',\n",
       " 'Python Programming Assignment_8.ipynb',\n",
       " 'Python Programming Assignment_9.ipynb',\n",
       " 'RCORD CLASS 17 SQL PART 2.ipynb',\n",
       " 'Recent',\n",
       " 'RECORD CLASS 1.ipynb',\n",
       " 'RECORD CLASS 10  EXCEPTION HANDLING CLASS 1 PART 1 CLASS 2.ipynb',\n",
       " 'RECORD CLASS 11 MODULE AND PACKAGES.ipynb',\n",
       " 'RECORD CLASS 12 OOPS PART 1.ipynb',\n",
       " 'RECORD CLASS 13 OOPS PART 2.ipynb',\n",
       " 'RECORD CLASS 14 OOPS PART 3.ipynb',\n",
       " 'RECORD CLASS 15 SQL PART 1.ipynb',\n",
       " 'RECORD CLASS 16  SQL Part 1.ipynb',\n",
       " 'RECORD CLASS 18 INTRODUCTION TO MANGODB .ipynb',\n",
       " 'RECORD CLASS 19 SQL lite, map, reduce, filter,zip.ipynb',\n",
       " 'RECORD CLASS 2 STRING.ipynb',\n",
       " 'RECORD CLASS 20 CASSANDRA.ipynb',\n",
       " 'RECORD CLASS 21  Introduction to Pandas.ipynb',\n",
       " 'RECORD CLASS 22 Working with Pandas.ipynb',\n",
       " 'RECORD CLASS 23  Pandas Data Analysis Part 1.ipynb',\n",
       " 'RECORD CLASS 24 Pandas Data Analysis Part 2.ipynb',\n",
       " 'RECORD CLASS 25  Pandas and Numpy.ipynb',\n",
       " 'RECORD CLASS 26 Numpy methods.ipynb',\n",
       " 'RECORD CLASS 27 GUI Programming with Tkinter.ipynb',\n",
       " 'RECORD CLASS 28 Introduction to Graphs Charts.ipynb',\n",
       " 'RECORD CLASS 29 Working with Graphs in Python.ipynb',\n",
       " 'RECORD CLASS 3 TUPLE, SET AND DICT.ipynb',\n",
       " 'RECORD CLASS 30 API Testing.ipynb',\n",
       " 'RECORD CLASS 31  Review Scrapper PROJECT.ipynb',\n",
       " 'RECORD CLASS 32 STATICS  PRACTICAL.ipynb',\n",
       " 'RECORD CLASS 33 Introduction to EDA.ipynb',\n",
       " 'RECORD CLASS 34 EDA and Feature Engineering.ipynb',\n",
       " 'RECORD CLASS 35  Linear Regression.ipynb',\n",
       " 'RECORD CLASS 36 practical implementation of Rigde Lasso and Logistic Regression.ipynb',\n",
       " 'RECORD CLASS 4 IF, ELIF AND WHILE , FOR LOOP.ipynb',\n",
       " 'RECORD CLASS 9 ITERATOR, GENERATOR AND FILE SYSTEM.ipynb',\n",
       " 'RECORD CLASS DISCUSSION LOOPS 6.ipynb',\n",
       " 'RECORD CLASS FOR LOOP AND WHILE LOOP 5.ipynb',\n",
       " 'RECORD CLASS FUNCTION 7 PART 1.ipynb',\n",
       " 'RECORD CLASS FUNCTION 8 PART 2.ipynb',\n",
       " 'sample_test.csv',\n",
       " 'Saved Games',\n",
       " 'seaborn-data',\n",
       " 'Searches',\n",
       " 'SendTo',\n",
       " 'Start Menu',\n",
       " 'tax2.xls',\n",
       " 'Templates',\n",
       " 'test.csv',\n",
       " 'test.log',\n",
       " 'test.py',\n",
       " 'test.txt',\n",
       " 'test1.py',\n",
       " 'test2.py',\n",
       " 'test2.txt',\n",
       " 'test3.txt',\n",
       " 'test4.txt',\n",
       " 'testnew.txt',\n",
       " 'text1.txt',\n",
       " 'text3.log',\n",
       " 'today.txt',\n",
       " 'train.csv',\n",
       " 'uk',\n",
       " 'uk.db',\n",
       " 'unit.xls',\n",
       " 'Videos',\n",
       " '__pycache__']"
      ]
     },
     "execution_count": 5,
     "metadata": {},
     "output_type": "execute_result"
    }
   ],
   "source": [
    "# Q.[4] : List the files in your current directory\n",
    "\n",
    "import os\n",
    "os.listdir('.')"
   ]
  },
  {
   "cell_type": "code",
   "execution_count": 6,
   "id": "3faee479",
   "metadata": {},
   "outputs": [
    {
     "data": {
      "text/plain": [
       "['All Users',\n",
       " 'Dattatri  Kore',\n",
       " 'Default',\n",
       " 'Default User',\n",
       " 'desktop.ini',\n",
       " 'Public']"
      ]
     },
     "execution_count": 6,
     "metadata": {},
     "output_type": "execute_result"
    }
   ],
   "source": [
    "# Q.[5] : Create a list of all of the files in your parent directory (minimum five files should be available).\n",
    "\n",
    "os.listdir('..')"
   ]
  },
  {
   "cell_type": "code",
   "execution_count": 9,
   "id": "00c97ba2",
   "metadata": {},
   "outputs": [],
   "source": [
    "'''\n",
    "Q.[6] : Use multiprocessing to create three separate processes. Make each one wait a random number of\n",
    "\n",
    "        seconds between one and five, print the current time, and then exit.\n",
    "\n",
    "'''\n",
    "\n",
    "import multiprocessing\n",
    "\n",
    "def printsec(seconds):\n",
    "    from datetime import datetime\n",
    "    from time import sleep\n",
    "    sleep(seconds)\n",
    "    print('wait', seconds, 'seconds, time is', datetime.utcnow())\n",
    "    \n",
    "if __name__ == '__main__':\n",
    "    import random    \n",
    "    for n in range(3):\n",
    "        seconds = random.random()\n",
    "        proc = multiprocessing.Process(target=printsec, args=(seconds,))\n",
    "        proc.start()"
   ]
  },
  {
   "cell_type": "code",
   "execution_count": 10,
   "id": "057387ed",
   "metadata": {},
   "outputs": [],
   "source": [
    "!python multi.py"
   ]
  },
  {
   "cell_type": "code",
   "execution_count": 11,
   "id": "6069ade0",
   "metadata": {},
   "outputs": [
    {
     "name": "stdout",
     "output_type": "stream",
     "text": [
      "1998-06-11 00:00:00 <class 'datetime.datetime'>\n"
     ]
    }
   ],
   "source": [
    "# Q.[7] : Create a date object of your day of birth.\n",
    "\n",
    "from datetime import datetime\n",
    "my_dob = datetime.strptime('11/06/1998','%d/%m/%Y')\n",
    "print(my_dob, type(my_dob))"
   ]
  },
  {
   "cell_type": "code",
   "execution_count": 12,
   "id": "9b7f1612",
   "metadata": {},
   "outputs": [
    {
     "data": {
      "text/plain": [
       "'Thursday'"
      ]
     },
     "execution_count": 12,
     "metadata": {},
     "output_type": "execute_result"
    }
   ],
   "source": [
    "# Q.[8] : What day of the week was your day of birth?\n",
    "\n",
    "from datetime import datetime\n",
    "my_dob = datetime(1998,6,11)\n",
    "my_dob.strftime(\"%A\")"
   ]
  },
  {
   "cell_type": "code",
   "execution_count": 13,
   "id": "78d610fc",
   "metadata": {},
   "outputs": [
    {
     "data": {
      "text/plain": [
       "datetime.datetime(1971, 1, 24, 0, 0)"
      ]
     },
     "execution_count": 13,
     "metadata": {},
     "output_type": "execute_result"
    }
   ],
   "source": [
    "# Q.[9] : When will you be (or when were you) 10,000 days old?\n",
    "\n",
    "from datetime import datetime, timedelta\n",
    "my_dob = datetime.strptime(\"11/06/1998\",'%d/%m/%Y')\n",
    "future_date = my_dob-timedelta(10000)\n",
    "future_date"
   ]
  },
  {
   "cell_type": "code",
   "execution_count": null,
   "id": "48750f1f",
   "metadata": {},
   "outputs": [],
   "source": []
  }
 ],
 "metadata": {
  "kernelspec": {
   "display_name": "Python 3 (ipykernel)",
   "language": "python",
   "name": "python3"
  },
  "language_info": {
   "codemirror_mode": {
    "name": "ipython",
    "version": 3
   },
   "file_extension": ".py",
   "mimetype": "text/x-python",
   "name": "python",
   "nbconvert_exporter": "python",
   "pygments_lexer": "ipython3",
   "version": "3.9.13"
  }
 },
 "nbformat": 4,
 "nbformat_minor": 5
}
